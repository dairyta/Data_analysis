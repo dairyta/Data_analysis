{
  "nbformat": 4,
  "nbformat_minor": 0,
  "metadata": {
    "colab": {
      "provenance": [],
      "authorship_tag": "ABX9TyOw/qz0sk0VgK8WgVSr7JX3",
      "include_colab_link": true
    },
    "kernelspec": {
      "name": "python3",
      "display_name": "Python 3"
    },
    "language_info": {
      "name": "python"
    }
  },
  "cells": [
    {
      "cell_type": "markdown",
      "metadata": {
        "id": "view-in-github",
        "colab_type": "text"
      },
      "source": [
        "<a href=\"https://colab.research.google.com/github/dairyta/Data_analysis/blob/main/PythonZero.ipynb\" target=\"_parent\"><img src=\"https://colab.research.google.com/assets/colab-badge.svg\" alt=\"Open In Colab\"/></a>"
      ]
    },
    {
      "cell_type": "code",
      "execution_count": 1,
      "metadata": {
        "colab": {
          "base_uri": "https://localhost:8080/"
        },
        "id": "gVERjQmCulK2",
        "outputId": "0fe23829-436a-4f4a-85ef-04f05c00212e"
      },
      "outputs": [
        {
          "output_type": "stream",
          "name": "stdout",
          "text": [
            "Hello\n"
          ]
        }
      ],
      "source": [
        "print(\"Hello\")\n"
      ]
    },
    {
      "cell_type": "markdown",
      "source": [
        "# Python program to declare variables"
      ],
      "metadata": {
        "id": "X76GMVdrv7th"
      }
    },
    {
      "cell_type": "code",
      "source": [
        "numberInt =  3\n",
        "nombreString = \"Hello World\"\n",
        "numberFloat = 3.5\n",
        "print(numberInt, nombreString, numberFloat)\n"
      ],
      "metadata": {
        "colab": {
          "base_uri": "https://localhost:8080/"
        },
        "id": "MVAq1MGFu8vO",
        "outputId": "830a52e2-d2ef-4a52-a265-09836dd5f871"
      },
      "execution_count": 2,
      "outputs": [
        {
          "output_type": "stream",
          "name": "stdout",
          "text": [
            "3 Hello World 3.5\n"
          ]
        }
      ]
    },
    {
      "cell_type": "markdown",
      "source": [
        "Python have 4 types of built in Data Structures namely List, Dictionary, Tuple and Set.\n",
        "Listas comienzan en \"Cero\""
      ],
      "metadata": {
        "id": "MZYVp_ZkwB7v"
      }
    },
    {
      "cell_type": "code",
      "source": [
        "# Python program to illustrate a list\n",
        "# creates a empty list\n",
        "nums = []"
      ],
      "metadata": {
        "id": "D8BYTSzUwHmZ"
      },
      "execution_count": null,
      "outputs": []
    },
    {
      "cell_type": "code",
      "source": [
        "# Creating a List of numbers\n",
        "List = [10 , 20, 14, 50]\n",
        "print(\"\\nList of numbers: \")\n",
        "#print(List)\n",
        "print(List[3], List[2], List[1], List[0])"
      ],
      "metadata": {
        "colab": {
          "base_uri": "https://localhost:8080/"
        },
        "id": "dy_iDp6Rxa62",
        "outputId": "a11de4ff-ac2f-47d9-ec42-5bb81e09456b"
      },
      "execution_count": 8,
      "outputs": [
        {
          "output_type": "stream",
          "name": "stdout",
          "text": [
            "\n",
            "List of numbers: \n",
            "50 14 20 10\n"
          ]
        }
      ]
    },
    {
      "cell_type": "markdown",
      "source": [
        "Example 2:  Creating a list with multiple distinct or duplicate elements"
      ],
      "metadata": {
        "id": "uEvTF3y5ySYU"
      }
    },
    {
      "cell_type": "code",
      "source": [
        "# Creating a List with\n",
        "# the use of Numbers\n",
        "# (Having duplicate values)\n",
        "List = [1, 2, 4, 4, 3, 3, 3, 6, 5]\n",
        "print(\"\\nList with the use of Numbers: \")\n",
        "print(List)"
      ],
      "metadata": {
        "colab": {
          "base_uri": "https://localhost:8080/"
        },
        "id": "7A7_I8o1x1gw",
        "outputId": "a5fafaac-a414-48dd-b4a6-3643927b09a9"
      },
      "execution_count": 9,
      "outputs": [
        {
          "output_type": "stream",
          "name": "stdout",
          "text": [
            "\n",
            "List with the use of Numbers: \n",
            "[1, 2, 4, 4, 3, 3, 3, 6, 5]\n"
          ]
        }
      ]
    },
    {
      "cell_type": "code",
      "source": [
        "# (Having numbers and strings)\n",
        "List = [1, 2, 'Geeks', 4, 'For', 6, 'Geeks']\n",
        "print(List)"
      ],
      "metadata": {
        "colab": {
          "base_uri": "https://localhost:8080/"
        },
        "id": "lHNi-ybx1gvN",
        "outputId": "f6adfd4e-2eac-4e3f-ca6c-6ea4636b4f11"
      },
      "execution_count": 10,
      "outputs": [
        {
          "output_type": "stream",
          "name": "stdout",
          "text": [
            "[1, 2, 'Geeks', 4, 'For', 6, 'Geeks']\n"
          ]
        }
      ]
    },
    {
      "cell_type": "code",
      "source": [
        "#Example 1: Accessing elements from list\n",
        "print(\"\\nList Accesing elements from the List\")\n",
        "print(List[0])\n",
        "print(List[4])\n",
        "print(List[2])"
      ],
      "metadata": {
        "colab": {
          "base_uri": "https://localhost:8080/"
        },
        "id": "5GHf9EkY1sZd",
        "outputId": "a64913e2-bcab-4975-ec94-3e23bd9fabdf"
      },
      "execution_count": 11,
      "outputs": [
        {
          "output_type": "stream",
          "name": "stdout",
          "text": [
            "\n",
            "List Accesing elements from the List\n",
            "1\n",
            "For\n",
            "Geeks\n"
          ]
        }
      ]
    },
    {
      "cell_type": "code",
      "source": [
        "# Creating a Multi-Dimensional List\n",
        "List = [['Geeks', 'For'],['blanco','negro','gris'],[1, 2.3,]]\n",
        "print(\"\\nList Accesing elements from the Multi-Dimensional List\")\n",
        "print(List[0][1], List[0][1]) #de la lista en la posicion 'cero' devuelveme el elemento en la posicion'1'\n",
        "print(List[1][0]) #de la lista en la posicion '1'  devuelveme el elemento en la posicion'cero'\n"
      ],
      "metadata": {
        "colab": {
          "base_uri": "https://localhost:8080/"
        },
        "id": "6yWFBd4e2guM",
        "outputId": "a2554b1a-e02d-4d31-d533-1b4a94381c1d"
      },
      "execution_count": 16,
      "outputs": [
        {
          "output_type": "stream",
          "name": "stdout",
          "text": [
            "\n",
            "List Accesing elements from the Multi-Dimensional List\n",
            "For For\n",
            "blanco\n"
          ]
        }
      ]
    },
    {
      "cell_type": "markdown",
      "source": [
        "Negative indexing\n"
      ],
      "metadata": {
        "id": "a5QlH3674s-A"
      }
    },
    {
      "cell_type": "code",
      "source": [
        "# accessing an element using\n",
        "# negative indexing\n",
        "print(\"Accessing element using negative indexing\")\n",
        "print(List[-1][1]) #del ultimo elemento de la lista la posicion '1'\n",
        "print(List[-2])\n",
        ""
      ],
      "metadata": {
        "colab": {
          "base_uri": "https://localhost:8080/"
        },
        "id": "lI858ZWk4ccp",
        "outputId": "f83c506f-47e2-4915-c433-460e4212a492"
      },
      "execution_count": 20,
      "outputs": [
        {
          "output_type": "stream",
          "name": "stdout",
          "text": [
            "Accessing element using negative indexing\n",
            "2.3\n",
            "['blanco', 'negro', 'gris']\n"
          ]
        }
      ]
    },
    {
      "cell_type": "markdown",
      "source": [
        "Getting the size of Python list"
      ],
      "metadata": {
        "id": "TLrB5OiEG1nk"
      }
    },
    {
      "cell_type": "code",
      "source": [
        "List = [['Geeks', 'For'],['blanco','negro','gris'],[1, 2.3,]]\n",
        "print(\"Getting the size of Python list\")\n",
        "print(len(List))"
      ],
      "metadata": {
        "colab": {
          "base_uri": "https://localhost:8080/"
        },
        "id": "NmOhL301G2m8",
        "outputId": "f95c4613-d99b-449c-d306-a93a56b9cf29"
      },
      "execution_count": 23,
      "outputs": [
        {
          "output_type": "stream",
          "name": "stdout",
          "text": [
            "Getting the size of Python list\n",
            "3\n"
          ]
        }
      ]
    },
    {
      "cell_type": "code",
      "source": [
        "string = input(\"Enter elements (Space-Separated): \")\n",
        "#lst = string.split()\n",
        "print('The list is:', string)"
      ],
      "metadata": {
        "colab": {
          "base_uri": "https://localhost:8080/"
        },
        "id": "3ZnxJrbrHuZE",
        "outputId": "a9eeab70-8588-44c7-898f-5341eb19d88e"
      },
      "execution_count": 26,
      "outputs": [
        {
          "output_type": "stream",
          "name": "stdout",
          "text": [
            "Enter elements (Space-Separated): 2 5 4 CUATRO 1,2\n",
            "The list is: 2 5 4 CUATRO 1,2\n"
          ]
        }
      ]
    },
    {
      "cell_type": "markdown",
      "source": [
        "Método 1: usar el método append()\n",
        "sOLO SE PUEDE AGREGAR UN ELEMENTO A LA VVEZ, POR TANTO SE UTILIZAN BUCLES"
      ],
      "metadata": {
        "id": "jXWgJUFuI4DT"
      }
    },
    {
      "cell_type": "code",
      "source": [
        "# Addition of elements in a List with append()\n",
        "\n",
        "List = []\n",
        "List.append(1)\n",
        "List.append(2)\n",
        "List.append(4)\n",
        "print(\"\\nList after Addition of Three elements: \", List)"
      ],
      "metadata": {
        "colab": {
          "base_uri": "https://localhost:8080/"
        },
        "id": "C4n5s_aII17t",
        "outputId": "b61d0359-ff14-430e-9cab-4f4d377e4b79"
      },
      "execution_count": 27,
      "outputs": [
        {
          "output_type": "stream",
          "name": "stdout",
          "text": [
            "\n",
            "List after Addition of Three elements:  [1, 2, 4]\n"
          ]
        }
      ]
    },
    {
      "cell_type": "code",
      "source": [
        "# Addition of elements in a List with input()\n",
        "\n",
        "List10minor = []\n",
        "List10\n",
        "num1 = int(input(\"Enter num1: \"))\n",
        "List.append(num1)\n",
        "print(\"\\nList after Addition of Three elements: \", List)"
      ],
      "metadata": {
        "colab": {
          "base_uri": "https://localhost:8080/"
        },
        "id": "wQtL_gSDJX97",
        "outputId": "69c89ad9-38c4-44b1-aa7a-e17d418b79d0"
      },
      "execution_count": 29,
      "outputs": [
        {
          "output_type": "stream",
          "name": "stdout",
          "text": [
            "Enter num1: 1\n",
            "\n",
            "List after Addition of Three elements:  [1]\n"
          ]
        }
      ]
    },
    {
      "cell_type": "markdown",
      "source": [],
      "metadata": {
        "id": "UjWV34v71geN"
      }
    }
  ]
}